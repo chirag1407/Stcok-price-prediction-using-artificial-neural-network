{
  "nbformat": 4,
  "nbformat_minor": 0,
  "metadata": {
    "colab": {
      "name": "stock_price_prediction_using_ann.ipynb",
      "provenance": []
    },
    "kernelspec": {
      "name": "python3",
      "display_name": "Python 3"
    },
    "language_info": {
      "name": "python"
    }
  },
  "cells": [
    {
      "cell_type": "code",
      "metadata": {
        "colab": {
          "base_uri": "https://localhost:8080/"
        },
        "id": "HjdGSRBhTGOi",
        "outputId": "be6a3a5b-f5d5-4bc1-b8ba-cb0267d4fa6d"
      },
      "source": [
        "#importing libraries\n",
        "import numpy as np\n",
        "import matplotlib.pyplot as plt\n",
        "import pandas as pd\n",
        "from pandas import datetime\n",
        "import math\n",
        "from math import sqrt\n",
        "from keras.models import Sequential\n",
        "from keras.layers.core import Dense, Dropout, Activation"
      ],
      "execution_count": 1,
      "outputs": [
        {
          "output_type": "stream",
          "text": [
            "/usr/local/lib/python3.7/dist-packages/ipykernel_launcher.py:4: FutureWarning: The pandas.datetime class is deprecated and will be removed from pandas in a future version. Import from datetime module instead.\n",
            "  after removing the cwd from sys.path.\n"
          ],
          "name": "stderr"
        }
      ]
    },
    {
      "cell_type": "code",
      "metadata": {
        "colab": {
          "base_uri": "https://localhost:8080/",
          "height": 407
        },
        "id": "cXxCImGdTWLD",
        "outputId": "6e164a7c-d695-49e2-bae8-154cd112f973"
      },
      "source": [
        "#loading dataset\n",
        "df=pd.read_csv(\"Data.csv\")\n",
        "df"
      ],
      "execution_count": 14,
      "outputs": [
        {
          "output_type": "execute_result",
          "data": {
            "text/html": [
              "<div>\n",
              "<style scoped>\n",
              "    .dataframe tbody tr th:only-of-type {\n",
              "        vertical-align: middle;\n",
              "    }\n",
              "\n",
              "    .dataframe tbody tr th {\n",
              "        vertical-align: top;\n",
              "    }\n",
              "\n",
              "    .dataframe thead th {\n",
              "        text-align: right;\n",
              "    }\n",
              "</style>\n",
              "<table border=\"1\" class=\"dataframe\">\n",
              "  <thead>\n",
              "    <tr style=\"text-align: right;\">\n",
              "      <th></th>\n",
              "      <th>Date</th>\n",
              "      <th>Open</th>\n",
              "      <th>High</th>\n",
              "      <th>Low</th>\n",
              "      <th>Close</th>\n",
              "      <th>Adj Close</th>\n",
              "      <th>Volume</th>\n",
              "    </tr>\n",
              "  </thead>\n",
              "  <tbody>\n",
              "    <tr>\n",
              "      <th>0</th>\n",
              "      <td>2008-10-03</td>\n",
              "      <td>41.299999</td>\n",
              "      <td>41.685001</td>\n",
              "      <td>39.400002</td>\n",
              "      <td>40.525002</td>\n",
              "      <td>29.296358</td>\n",
              "      <td>185090.0</td>\n",
              "    </tr>\n",
              "    <tr>\n",
              "      <th>1</th>\n",
              "      <td>2008-10-06</td>\n",
              "      <td>39.700001</td>\n",
              "      <td>40.799999</td>\n",
              "      <td>37.200001</td>\n",
              "      <td>39.564999</td>\n",
              "      <td>28.602345</td>\n",
              "      <td>204340.0</td>\n",
              "    </tr>\n",
              "    <tr>\n",
              "      <th>2</th>\n",
              "      <td>2008-10-07</td>\n",
              "      <td>40.000000</td>\n",
              "      <td>40.599998</td>\n",
              "      <td>36.000000</td>\n",
              "      <td>36.119999</td>\n",
              "      <td>26.111885</td>\n",
              "      <td>128970.0</td>\n",
              "    </tr>\n",
              "    <tr>\n",
              "      <th>3</th>\n",
              "      <td>2008-10-08</td>\n",
              "      <td>35.000000</td>\n",
              "      <td>44.400002</td>\n",
              "      <td>34.500000</td>\n",
              "      <td>40.880001</td>\n",
              "      <td>29.552996</td>\n",
              "      <td>700490.0</td>\n",
              "    </tr>\n",
              "    <tr>\n",
              "      <th>4</th>\n",
              "      <td>2008-10-10</td>\n",
              "      <td>40.400002</td>\n",
              "      <td>40.400002</td>\n",
              "      <td>35.299999</td>\n",
              "      <td>37.910000</td>\n",
              "      <td>27.405914</td>\n",
              "      <td>367380.0</td>\n",
              "    </tr>\n",
              "    <tr>\n",
              "      <th>...</th>\n",
              "      <td>...</td>\n",
              "      <td>...</td>\n",
              "      <td>...</td>\n",
              "      <td>...</td>\n",
              "      <td>...</td>\n",
              "      <td>...</td>\n",
              "      <td>...</td>\n",
              "    </tr>\n",
              "    <tr>\n",
              "      <th>2462</th>\n",
              "      <td>2018-09-25</td>\n",
              "      <td>218.000000</td>\n",
              "      <td>221.000000</td>\n",
              "      <td>208.500000</td>\n",
              "      <td>218.550003</td>\n",
              "      <td>218.550003</td>\n",
              "      <td>5014613.0</td>\n",
              "    </tr>\n",
              "    <tr>\n",
              "      <th>2463</th>\n",
              "      <td>2018-09-26</td>\n",
              "      <td>221.500000</td>\n",
              "      <td>221.500000</td>\n",
              "      <td>210.100006</td>\n",
              "      <td>212.149994</td>\n",
              "      <td>212.149994</td>\n",
              "      <td>3303414.0</td>\n",
              "    </tr>\n",
              "    <tr>\n",
              "      <th>2464</th>\n",
              "      <td>2018-09-27</td>\n",
              "      <td>213.199997</td>\n",
              "      <td>214.449997</td>\n",
              "      <td>185.199997</td>\n",
              "      <td>189.399994</td>\n",
              "      <td>189.399994</td>\n",
              "      <td>9492583.0</td>\n",
              "    </tr>\n",
              "    <tr>\n",
              "      <th>2465</th>\n",
              "      <td>2018-09-28</td>\n",
              "      <td>191.399994</td>\n",
              "      <td>198.850006</td>\n",
              "      <td>181.000000</td>\n",
              "      <td>189.500000</td>\n",
              "      <td>189.500000</td>\n",
              "      <td>6458894.0</td>\n",
              "    </tr>\n",
              "    <tr>\n",
              "      <th>2466</th>\n",
              "      <td>2018-10-01</td>\n",
              "      <td>189.000000</td>\n",
              "      <td>190.899994</td>\n",
              "      <td>169.050003</td>\n",
              "      <td>187.000000</td>\n",
              "      <td>187.000000</td>\n",
              "      <td>6270237.0</td>\n",
              "    </tr>\n",
              "  </tbody>\n",
              "</table>\n",
              "<p>2467 rows × 7 columns</p>\n",
              "</div>"
            ],
            "text/plain": [
              "            Date        Open        High  ...       Close   Adj Close     Volume\n",
              "0     2008-10-03   41.299999   41.685001  ...   40.525002   29.296358   185090.0\n",
              "1     2008-10-06   39.700001   40.799999  ...   39.564999   28.602345   204340.0\n",
              "2     2008-10-07   40.000000   40.599998  ...   36.119999   26.111885   128970.0\n",
              "3     2008-10-08   35.000000   44.400002  ...   40.880001   29.552996   700490.0\n",
              "4     2008-10-10   40.400002   40.400002  ...   37.910000   27.405914   367380.0\n",
              "...          ...         ...         ...  ...         ...         ...        ...\n",
              "2462  2018-09-25  218.000000  221.000000  ...  218.550003  218.550003  5014613.0\n",
              "2463  2018-09-26  221.500000  221.500000  ...  212.149994  212.149994  3303414.0\n",
              "2464  2018-09-27  213.199997  214.449997  ...  189.399994  189.399994  9492583.0\n",
              "2465  2018-09-28  191.399994  198.850006  ...  189.500000  189.500000  6458894.0\n",
              "2466  2018-10-01  189.000000  190.899994  ...  187.000000  187.000000  6270237.0\n",
              "\n",
              "[2467 rows x 7 columns]"
            ]
          },
          "metadata": {
            "tags": []
          },
          "execution_count": 14
        }
      ]
    },
    {
      "cell_type": "code",
      "metadata": {
        "colab": {
          "base_uri": "https://localhost:8080/",
          "height": 444
        },
        "id": "uqSLN6aPUlxl",
        "outputId": "f12f59c4-6b23-4eee-add8-3741a12fc214"
      },
      "source": [
        "#splitting date into year, month and day\n",
        "date_split = df['Date'].str.split('-').str\n",
        "df['Year'], df['Month'], df['Day'] = date_split\n",
        "df[\"Volume\"] = df[\"Volume\"] / 10000\n",
        "df"
      ],
      "execution_count": 15,
      "outputs": [
        {
          "output_type": "stream",
          "text": [
            "/usr/local/lib/python3.7/dist-packages/ipykernel_launcher.py:2: FutureWarning: Columnar iteration over characters will be deprecated in future releases.\n",
            "  \n"
          ],
          "name": "stderr"
        },
        {
          "output_type": "execute_result",
          "data": {
            "text/html": [
              "<div>\n",
              "<style scoped>\n",
              "    .dataframe tbody tr th:only-of-type {\n",
              "        vertical-align: middle;\n",
              "    }\n",
              "\n",
              "    .dataframe tbody tr th {\n",
              "        vertical-align: top;\n",
              "    }\n",
              "\n",
              "    .dataframe thead th {\n",
              "        text-align: right;\n",
              "    }\n",
              "</style>\n",
              "<table border=\"1\" class=\"dataframe\">\n",
              "  <thead>\n",
              "    <tr style=\"text-align: right;\">\n",
              "      <th></th>\n",
              "      <th>Date</th>\n",
              "      <th>Open</th>\n",
              "      <th>High</th>\n",
              "      <th>Low</th>\n",
              "      <th>Close</th>\n",
              "      <th>Adj Close</th>\n",
              "      <th>Volume</th>\n",
              "      <th>Year</th>\n",
              "      <th>Month</th>\n",
              "      <th>Day</th>\n",
              "    </tr>\n",
              "  </thead>\n",
              "  <tbody>\n",
              "    <tr>\n",
              "      <th>0</th>\n",
              "      <td>2008-10-03</td>\n",
              "      <td>41.299999</td>\n",
              "      <td>41.685001</td>\n",
              "      <td>39.400002</td>\n",
              "      <td>40.525002</td>\n",
              "      <td>29.296358</td>\n",
              "      <td>18.5090</td>\n",
              "      <td>2008</td>\n",
              "      <td>10</td>\n",
              "      <td>03</td>\n",
              "    </tr>\n",
              "    <tr>\n",
              "      <th>1</th>\n",
              "      <td>2008-10-06</td>\n",
              "      <td>39.700001</td>\n",
              "      <td>40.799999</td>\n",
              "      <td>37.200001</td>\n",
              "      <td>39.564999</td>\n",
              "      <td>28.602345</td>\n",
              "      <td>20.4340</td>\n",
              "      <td>2008</td>\n",
              "      <td>10</td>\n",
              "      <td>06</td>\n",
              "    </tr>\n",
              "    <tr>\n",
              "      <th>2</th>\n",
              "      <td>2008-10-07</td>\n",
              "      <td>40.000000</td>\n",
              "      <td>40.599998</td>\n",
              "      <td>36.000000</td>\n",
              "      <td>36.119999</td>\n",
              "      <td>26.111885</td>\n",
              "      <td>12.8970</td>\n",
              "      <td>2008</td>\n",
              "      <td>10</td>\n",
              "      <td>07</td>\n",
              "    </tr>\n",
              "    <tr>\n",
              "      <th>3</th>\n",
              "      <td>2008-10-08</td>\n",
              "      <td>35.000000</td>\n",
              "      <td>44.400002</td>\n",
              "      <td>34.500000</td>\n",
              "      <td>40.880001</td>\n",
              "      <td>29.552996</td>\n",
              "      <td>70.0490</td>\n",
              "      <td>2008</td>\n",
              "      <td>10</td>\n",
              "      <td>08</td>\n",
              "    </tr>\n",
              "    <tr>\n",
              "      <th>4</th>\n",
              "      <td>2008-10-10</td>\n",
              "      <td>40.400002</td>\n",
              "      <td>40.400002</td>\n",
              "      <td>35.299999</td>\n",
              "      <td>37.910000</td>\n",
              "      <td>27.405914</td>\n",
              "      <td>36.7380</td>\n",
              "      <td>2008</td>\n",
              "      <td>10</td>\n",
              "      <td>10</td>\n",
              "    </tr>\n",
              "    <tr>\n",
              "      <th>...</th>\n",
              "      <td>...</td>\n",
              "      <td>...</td>\n",
              "      <td>...</td>\n",
              "      <td>...</td>\n",
              "      <td>...</td>\n",
              "      <td>...</td>\n",
              "      <td>...</td>\n",
              "      <td>...</td>\n",
              "      <td>...</td>\n",
              "      <td>...</td>\n",
              "    </tr>\n",
              "    <tr>\n",
              "      <th>2462</th>\n",
              "      <td>2018-09-25</td>\n",
              "      <td>218.000000</td>\n",
              "      <td>221.000000</td>\n",
              "      <td>208.500000</td>\n",
              "      <td>218.550003</td>\n",
              "      <td>218.550003</td>\n",
              "      <td>501.4613</td>\n",
              "      <td>2018</td>\n",
              "      <td>09</td>\n",
              "      <td>25</td>\n",
              "    </tr>\n",
              "    <tr>\n",
              "      <th>2463</th>\n",
              "      <td>2018-09-26</td>\n",
              "      <td>221.500000</td>\n",
              "      <td>221.500000</td>\n",
              "      <td>210.100006</td>\n",
              "      <td>212.149994</td>\n",
              "      <td>212.149994</td>\n",
              "      <td>330.3414</td>\n",
              "      <td>2018</td>\n",
              "      <td>09</td>\n",
              "      <td>26</td>\n",
              "    </tr>\n",
              "    <tr>\n",
              "      <th>2464</th>\n",
              "      <td>2018-09-27</td>\n",
              "      <td>213.199997</td>\n",
              "      <td>214.449997</td>\n",
              "      <td>185.199997</td>\n",
              "      <td>189.399994</td>\n",
              "      <td>189.399994</td>\n",
              "      <td>949.2583</td>\n",
              "      <td>2018</td>\n",
              "      <td>09</td>\n",
              "      <td>27</td>\n",
              "    </tr>\n",
              "    <tr>\n",
              "      <th>2465</th>\n",
              "      <td>2018-09-28</td>\n",
              "      <td>191.399994</td>\n",
              "      <td>198.850006</td>\n",
              "      <td>181.000000</td>\n",
              "      <td>189.500000</td>\n",
              "      <td>189.500000</td>\n",
              "      <td>645.8894</td>\n",
              "      <td>2018</td>\n",
              "      <td>09</td>\n",
              "      <td>28</td>\n",
              "    </tr>\n",
              "    <tr>\n",
              "      <th>2466</th>\n",
              "      <td>2018-10-01</td>\n",
              "      <td>189.000000</td>\n",
              "      <td>190.899994</td>\n",
              "      <td>169.050003</td>\n",
              "      <td>187.000000</td>\n",
              "      <td>187.000000</td>\n",
              "      <td>627.0237</td>\n",
              "      <td>2018</td>\n",
              "      <td>10</td>\n",
              "      <td>01</td>\n",
              "    </tr>\n",
              "  </tbody>\n",
              "</table>\n",
              "<p>2467 rows × 10 columns</p>\n",
              "</div>"
            ],
            "text/plain": [
              "            Date        Open        High         Low  ...    Volume  Year  Month Day\n",
              "0     2008-10-03   41.299999   41.685001   39.400002  ...   18.5090  2008     10  03\n",
              "1     2008-10-06   39.700001   40.799999   37.200001  ...   20.4340  2008     10  06\n",
              "2     2008-10-07   40.000000   40.599998   36.000000  ...   12.8970  2008     10  07\n",
              "3     2008-10-08   35.000000   44.400002   34.500000  ...   70.0490  2008     10  08\n",
              "4     2008-10-10   40.400002   40.400002   35.299999  ...   36.7380  2008     10  10\n",
              "...          ...         ...         ...         ...  ...       ...   ...    ...  ..\n",
              "2462  2018-09-25  218.000000  221.000000  208.500000  ...  501.4613  2018     09  25\n",
              "2463  2018-09-26  221.500000  221.500000  210.100006  ...  330.3414  2018     09  26\n",
              "2464  2018-09-27  213.199997  214.449997  185.199997  ...  949.2583  2018     09  27\n",
              "2465  2018-09-28  191.399994  198.850006  181.000000  ...  645.8894  2018     09  28\n",
              "2466  2018-10-01  189.000000  190.899994  169.050003  ...  627.0237  2018     10  01\n",
              "\n",
              "[2467 rows x 10 columns]"
            ]
          },
          "metadata": {
            "tags": []
          },
          "execution_count": 15
        }
      ]
    },
    {
      "cell_type": "code",
      "metadata": {
        "colab": {
          "base_uri": "https://localhost:8080/",
          "height": 198
        },
        "id": "Urg3-cONU0vO",
        "outputId": "5334682b-91ec-4de2-d74d-af086af15d15"
      },
      "source": [
        "#dropping the columns that are not required\n",
        "df.drop(df.columns[[0,3,5, 7,8,9]], axis=1, inplace=True)\n",
        "df.head()"
      ],
      "execution_count": 16,
      "outputs": [
        {
          "output_type": "execute_result",
          "data": {
            "text/html": [
              "<div>\n",
              "<style scoped>\n",
              "    .dataframe tbody tr th:only-of-type {\n",
              "        vertical-align: middle;\n",
              "    }\n",
              "\n",
              "    .dataframe tbody tr th {\n",
              "        vertical-align: top;\n",
              "    }\n",
              "\n",
              "    .dataframe thead th {\n",
              "        text-align: right;\n",
              "    }\n",
              "</style>\n",
              "<table border=\"1\" class=\"dataframe\">\n",
              "  <thead>\n",
              "    <tr style=\"text-align: right;\">\n",
              "      <th></th>\n",
              "      <th>Open</th>\n",
              "      <th>High</th>\n",
              "      <th>Close</th>\n",
              "      <th>Volume</th>\n",
              "    </tr>\n",
              "  </thead>\n",
              "  <tbody>\n",
              "    <tr>\n",
              "      <th>0</th>\n",
              "      <td>41.299999</td>\n",
              "      <td>41.685001</td>\n",
              "      <td>40.525002</td>\n",
              "      <td>18.509</td>\n",
              "    </tr>\n",
              "    <tr>\n",
              "      <th>1</th>\n",
              "      <td>39.700001</td>\n",
              "      <td>40.799999</td>\n",
              "      <td>39.564999</td>\n",
              "      <td>20.434</td>\n",
              "    </tr>\n",
              "    <tr>\n",
              "      <th>2</th>\n",
              "      <td>40.000000</td>\n",
              "      <td>40.599998</td>\n",
              "      <td>36.119999</td>\n",
              "      <td>12.897</td>\n",
              "    </tr>\n",
              "    <tr>\n",
              "      <th>3</th>\n",
              "      <td>35.000000</td>\n",
              "      <td>44.400002</td>\n",
              "      <td>40.880001</td>\n",
              "      <td>70.049</td>\n",
              "    </tr>\n",
              "    <tr>\n",
              "      <th>4</th>\n",
              "      <td>40.400002</td>\n",
              "      <td>40.400002</td>\n",
              "      <td>37.910000</td>\n",
              "      <td>36.738</td>\n",
              "    </tr>\n",
              "  </tbody>\n",
              "</table>\n",
              "</div>"
            ],
            "text/plain": [
              "        Open       High      Close  Volume\n",
              "0  41.299999  41.685001  40.525002  18.509\n",
              "1  39.700001  40.799999  39.564999  20.434\n",
              "2  40.000000  40.599998  36.119999  12.897\n",
              "3  35.000000  44.400002  40.880001  70.049\n",
              "4  40.400002  40.400002  37.910000  36.738"
            ]
          },
          "metadata": {
            "tags": []
          },
          "execution_count": 16
        }
      ]
    },
    {
      "cell_type": "code",
      "metadata": {
        "colab": {
          "base_uri": "https://localhost:8080/",
          "height": 407
        },
        "id": "BQ-0sFehU3Ie",
        "outputId": "9dab6f5e-7987-43f0-92c1-58c91401f523"
      },
      "source": [
        "#normalizing and removing the null data points\n",
        "df['Open'] = df['Open']/100\n",
        "df['High'] = df['High']/100\n",
        "df['Volume'] = df['Volume']*100\n",
        "df['Close'] = df['Close']/100\n",
        "df"
      ],
      "execution_count": 17,
      "outputs": [
        {
          "output_type": "execute_result",
          "data": {
            "text/html": [
              "<div>\n",
              "<style scoped>\n",
              "    .dataframe tbody tr th:only-of-type {\n",
              "        vertical-align: middle;\n",
              "    }\n",
              "\n",
              "    .dataframe tbody tr th {\n",
              "        vertical-align: top;\n",
              "    }\n",
              "\n",
              "    .dataframe thead th {\n",
              "        text-align: right;\n",
              "    }\n",
              "</style>\n",
              "<table border=\"1\" class=\"dataframe\">\n",
              "  <thead>\n",
              "    <tr style=\"text-align: right;\">\n",
              "      <th></th>\n",
              "      <th>Open</th>\n",
              "      <th>High</th>\n",
              "      <th>Close</th>\n",
              "      <th>Volume</th>\n",
              "    </tr>\n",
              "  </thead>\n",
              "  <tbody>\n",
              "    <tr>\n",
              "      <th>0</th>\n",
              "      <td>0.413</td>\n",
              "      <td>0.41685</td>\n",
              "      <td>0.40525</td>\n",
              "      <td>1850.90</td>\n",
              "    </tr>\n",
              "    <tr>\n",
              "      <th>1</th>\n",
              "      <td>0.397</td>\n",
              "      <td>0.40800</td>\n",
              "      <td>0.39565</td>\n",
              "      <td>2043.40</td>\n",
              "    </tr>\n",
              "    <tr>\n",
              "      <th>2</th>\n",
              "      <td>0.400</td>\n",
              "      <td>0.40600</td>\n",
              "      <td>0.36120</td>\n",
              "      <td>1289.70</td>\n",
              "    </tr>\n",
              "    <tr>\n",
              "      <th>3</th>\n",
              "      <td>0.350</td>\n",
              "      <td>0.44400</td>\n",
              "      <td>0.40880</td>\n",
              "      <td>7004.90</td>\n",
              "    </tr>\n",
              "    <tr>\n",
              "      <th>4</th>\n",
              "      <td>0.404</td>\n",
              "      <td>0.40400</td>\n",
              "      <td>0.37910</td>\n",
              "      <td>3673.80</td>\n",
              "    </tr>\n",
              "    <tr>\n",
              "      <th>...</th>\n",
              "      <td>...</td>\n",
              "      <td>...</td>\n",
              "      <td>...</td>\n",
              "      <td>...</td>\n",
              "    </tr>\n",
              "    <tr>\n",
              "      <th>2462</th>\n",
              "      <td>2.180</td>\n",
              "      <td>2.21000</td>\n",
              "      <td>2.18550</td>\n",
              "      <td>50146.13</td>\n",
              "    </tr>\n",
              "    <tr>\n",
              "      <th>2463</th>\n",
              "      <td>2.215</td>\n",
              "      <td>2.21500</td>\n",
              "      <td>2.12150</td>\n",
              "      <td>33034.14</td>\n",
              "    </tr>\n",
              "    <tr>\n",
              "      <th>2464</th>\n",
              "      <td>2.132</td>\n",
              "      <td>2.14450</td>\n",
              "      <td>1.89400</td>\n",
              "      <td>94925.83</td>\n",
              "    </tr>\n",
              "    <tr>\n",
              "      <th>2465</th>\n",
              "      <td>1.914</td>\n",
              "      <td>1.98850</td>\n",
              "      <td>1.89500</td>\n",
              "      <td>64588.94</td>\n",
              "    </tr>\n",
              "    <tr>\n",
              "      <th>2466</th>\n",
              "      <td>1.890</td>\n",
              "      <td>1.90900</td>\n",
              "      <td>1.87000</td>\n",
              "      <td>62702.37</td>\n",
              "    </tr>\n",
              "  </tbody>\n",
              "</table>\n",
              "<p>2467 rows × 4 columns</p>\n",
              "</div>"
            ],
            "text/plain": [
              "       Open     High    Close    Volume\n",
              "0     0.413  0.41685  0.40525   1850.90\n",
              "1     0.397  0.40800  0.39565   2043.40\n",
              "2     0.400  0.40600  0.36120   1289.70\n",
              "3     0.350  0.44400  0.40880   7004.90\n",
              "4     0.404  0.40400  0.37910   3673.80\n",
              "...     ...      ...      ...       ...\n",
              "2462  2.180  2.21000  2.18550  50146.13\n",
              "2463  2.215  2.21500  2.12150  33034.14\n",
              "2464  2.132  2.14450  1.89400  94925.83\n",
              "2465  1.914  1.98850  1.89500  64588.94\n",
              "2466  1.890  1.90900  1.87000  62702.37\n",
              "\n",
              "[2467 rows x 4 columns]"
            ]
          },
          "metadata": {
            "tags": []
          },
          "execution_count": 17
        }
      ]
    },
    {
      "cell_type": "code",
      "metadata": {
        "colab": {
          "base_uri": "https://localhost:8080/",
          "height": 407
        },
        "id": "y2HMRDqLVITx",
        "outputId": "fa91fceb-a827-4395-c363-a8d5555e20d6"
      },
      "source": [
        "nan_value_index = []\n",
        "High = df.High.isnull()\n",
        "for i in range(0, len(High)):\n",
        "    if High[i] == 1:\n",
        "        nan_value_index.append(i)\n",
        "        df['High'][i] = 0\n",
        "Open = df.Open.isnull()\n",
        "for i in range(0, len(Open)):\n",
        "    if Open[i] == 1:\n",
        "        nan_value_index.append(i)\n",
        "        df['Open'][i] = 0\n",
        "Volume = df.Volume.isnull()\n",
        "for i in range(0, len(Volume)):\n",
        "    if Volume[i] == 1:\n",
        "        nan_value_index.append(i)\n",
        "        df['Volume'][i] = 0\n",
        "Close = df.Close.isnull()\n",
        "for i in range(0, len(Close)):\n",
        "    if Close[i] == 1:\n",
        "        nan_value_index.append(i)\n",
        "        df['Close'][i] = 0\n",
        "df"
      ],
      "execution_count": 19,
      "outputs": [
        {
          "output_type": "execute_result",
          "data": {
            "text/html": [
              "<div>\n",
              "<style scoped>\n",
              "    .dataframe tbody tr th:only-of-type {\n",
              "        vertical-align: middle;\n",
              "    }\n",
              "\n",
              "    .dataframe tbody tr th {\n",
              "        vertical-align: top;\n",
              "    }\n",
              "\n",
              "    .dataframe thead th {\n",
              "        text-align: right;\n",
              "    }\n",
              "</style>\n",
              "<table border=\"1\" class=\"dataframe\">\n",
              "  <thead>\n",
              "    <tr style=\"text-align: right;\">\n",
              "      <th></th>\n",
              "      <th>Open</th>\n",
              "      <th>High</th>\n",
              "      <th>Close</th>\n",
              "      <th>Volume</th>\n",
              "    </tr>\n",
              "  </thead>\n",
              "  <tbody>\n",
              "    <tr>\n",
              "      <th>0</th>\n",
              "      <td>0.413</td>\n",
              "      <td>0.41685</td>\n",
              "      <td>0.40525</td>\n",
              "      <td>1850.90</td>\n",
              "    </tr>\n",
              "    <tr>\n",
              "      <th>1</th>\n",
              "      <td>0.397</td>\n",
              "      <td>0.40800</td>\n",
              "      <td>0.39565</td>\n",
              "      <td>2043.40</td>\n",
              "    </tr>\n",
              "    <tr>\n",
              "      <th>2</th>\n",
              "      <td>0.400</td>\n",
              "      <td>0.40600</td>\n",
              "      <td>0.36120</td>\n",
              "      <td>1289.70</td>\n",
              "    </tr>\n",
              "    <tr>\n",
              "      <th>3</th>\n",
              "      <td>0.350</td>\n",
              "      <td>0.44400</td>\n",
              "      <td>0.40880</td>\n",
              "      <td>7004.90</td>\n",
              "    </tr>\n",
              "    <tr>\n",
              "      <th>4</th>\n",
              "      <td>0.404</td>\n",
              "      <td>0.40400</td>\n",
              "      <td>0.37910</td>\n",
              "      <td>3673.80</td>\n",
              "    </tr>\n",
              "    <tr>\n",
              "      <th>...</th>\n",
              "      <td>...</td>\n",
              "      <td>...</td>\n",
              "      <td>...</td>\n",
              "      <td>...</td>\n",
              "    </tr>\n",
              "    <tr>\n",
              "      <th>2462</th>\n",
              "      <td>2.180</td>\n",
              "      <td>2.21000</td>\n",
              "      <td>2.18550</td>\n",
              "      <td>50146.13</td>\n",
              "    </tr>\n",
              "    <tr>\n",
              "      <th>2463</th>\n",
              "      <td>2.215</td>\n",
              "      <td>2.21500</td>\n",
              "      <td>2.12150</td>\n",
              "      <td>33034.14</td>\n",
              "    </tr>\n",
              "    <tr>\n",
              "      <th>2464</th>\n",
              "      <td>2.132</td>\n",
              "      <td>2.14450</td>\n",
              "      <td>1.89400</td>\n",
              "      <td>94925.83</td>\n",
              "    </tr>\n",
              "    <tr>\n",
              "      <th>2465</th>\n",
              "      <td>1.914</td>\n",
              "      <td>1.98850</td>\n",
              "      <td>1.89500</td>\n",
              "      <td>64588.94</td>\n",
              "    </tr>\n",
              "    <tr>\n",
              "      <th>2466</th>\n",
              "      <td>1.890</td>\n",
              "      <td>1.90900</td>\n",
              "      <td>1.87000</td>\n",
              "      <td>62702.37</td>\n",
              "    </tr>\n",
              "  </tbody>\n",
              "</table>\n",
              "<p>2467 rows × 4 columns</p>\n",
              "</div>"
            ],
            "text/plain": [
              "       Open     High    Close    Volume\n",
              "0     0.413  0.41685  0.40525   1850.90\n",
              "1     0.397  0.40800  0.39565   2043.40\n",
              "2     0.400  0.40600  0.36120   1289.70\n",
              "3     0.350  0.44400  0.40880   7004.90\n",
              "4     0.404  0.40400  0.37910   3673.80\n",
              "...     ...      ...      ...       ...\n",
              "2462  2.180  2.21000  2.18550  50146.13\n",
              "2463  2.215  2.21500  2.12150  33034.14\n",
              "2464  2.132  2.14450  1.89400  94925.83\n",
              "2465  1.914  1.98850  1.89500  64588.94\n",
              "2466  1.890  1.90900  1.87000  62702.37\n",
              "\n",
              "[2467 rows x 4 columns]"
            ]
          },
          "metadata": {
            "tags": []
          },
          "execution_count": 19
        }
      ]
    },
    {
      "cell_type": "code",
      "metadata": {
        "colab": {
          "base_uri": "https://localhost:8080/"
        },
        "id": "r4L5XDmzVcU8",
        "outputId": "712216d7-6622-46f6-8b5a-75b7ffc333c8"
      },
      "source": [
        "#splitting into training and testing dataset\n",
        "X = df[['High','Open', 'Volume']]\n",
        "Y = df[['Close']]\n",
        "factor = 0.80\n",
        "length = X.shape[0]\n",
        "total_for_train = int(length*factor)\n",
        "X_train = X[:total_for_train]\n",
        "Y_train = Y[:total_for_train]\n",
        "X_test = X[total_for_train:]\n",
        "Y_test = Y[total_for_train:]\n",
        "\n",
        "print(\"X_train\", X_train.shape)\n",
        "print(\"y_train\", Y_train.shape)\n",
        "print(\"X_test\", X_test.shape)\n",
        "print(\"y_test\", Y_test.shape)"
      ],
      "execution_count": 21,
      "outputs": [
        {
          "output_type": "stream",
          "text": [
            "X_train (1973, 3)\n",
            "y_train (1973, 1)\n",
            "X_test (494, 3)\n",
            "y_test (494, 1)\n"
          ],
          "name": "stdout"
        }
      ]
    },
    {
      "cell_type": "code",
      "metadata": {
        "colab": {
          "base_uri": "https://localhost:8080/"
        },
        "id": "GaCp3DE8VsH6",
        "outputId": "5ea89b07-da68-4e82-bde4-d78fb0c4ab56"
      },
      "source": [
        "#Compiling and training the artificial neural network model\n",
        "classifier = Sequential()\n",
        "classifier.add(Dense(units = 32, kernel_initializer = 'uniform', activation = 'relu', input_dim = 3))\n",
        "classifier.add(Dense(units = 10, kernel_initializer = 'uniform', activation = 'relu'))\n",
        "classifier.add(Dense(units = 1, kernel_initializer = 'uniform', activation = 'linear'))\n",
        "classifier.compile(optimizer = 'adam', loss = 'mean_squared_error', metrics = [])\n",
        "classifier.fit(X_train, Y_train, batch_size = 128, epochs = 10, validation_split=0.05)"
      ],
      "execution_count": 22,
      "outputs": [
        {
          "output_type": "stream",
          "text": [
            "Epoch 1/10\n",
            "15/15 [==============================] - 1s 16ms/step - loss: 1.4122 - val_loss: 1.8192\n",
            "Epoch 2/10\n",
            "15/15 [==============================] - 0s 4ms/step - loss: 0.3042 - val_loss: 0.4224\n",
            "Epoch 3/10\n",
            "15/15 [==============================] - 0s 4ms/step - loss: 0.1322 - val_loss: 0.5199\n",
            "Epoch 4/10\n",
            "15/15 [==============================] - 0s 4ms/step - loss: 0.1286 - val_loss: 0.6305\n",
            "Epoch 5/10\n",
            "15/15 [==============================] - 0s 3ms/step - loss: 0.1316 - val_loss: 0.5432\n",
            "Epoch 6/10\n",
            "15/15 [==============================] - 0s 4ms/step - loss: 0.1219 - val_loss: 0.3008\n",
            "Epoch 7/10\n",
            "15/15 [==============================] - 0s 4ms/step - loss: 0.1283 - val_loss: 0.7524\n",
            "Epoch 8/10\n",
            "15/15 [==============================] - 0s 4ms/step - loss: 0.1316 - val_loss: 0.7803\n",
            "Epoch 9/10\n",
            "15/15 [==============================] - 0s 4ms/step - loss: 0.1287 - val_loss: 0.2887\n",
            "Epoch 10/10\n",
            "15/15 [==============================] - 0s 3ms/step - loss: 0.0923 - val_loss: 0.5071\n"
          ],
          "name": "stdout"
        },
        {
          "output_type": "execute_result",
          "data": {
            "text/plain": [
              "<tensorflow.python.keras.callbacks.History at 0x7fd24b6ab250>"
            ]
          },
          "metadata": {
            "tags": []
          },
          "execution_count": 22
        }
      ]
    },
    {
      "cell_type": "code",
      "metadata": {
        "colab": {
          "base_uri": "https://localhost:8080/"
        },
        "id": "Sg-gQPrhV0uJ",
        "outputId": "c1761104-67ad-489a-d4ad-550c5358d83f"
      },
      "source": [
        "#predicted values\n",
        "predictions = classifier.predict(X_test)\n",
        "print(predictions[:10])\n"
      ],
      "execution_count": 23,
      "outputs": [
        {
          "output_type": "stream",
          "text": [
            "[[0.17448157]\n",
            " [0.17213355]\n",
            " [0.16244425]\n",
            " [0.20551015]\n",
            " [0.15004826]\n",
            " [0.18400401]\n",
            " [0.1622108 ]\n",
            " [0.17628084]\n",
            " [0.15577403]\n",
            " [0.35002884]]\n"
          ],
          "name": "stdout"
        }
      ]
    },
    {
      "cell_type": "code",
      "metadata": {
        "colab": {
          "base_uri": "https://localhost:8080/"
        },
        "id": "fK85nQRQV5in",
        "outputId": "e78485ed-9c00-49b8-f8e7-da131fb1e2b4"
      },
      "source": [
        "#Calculating the error in the trained Neural Network model\n",
        "trainScore = classifier.evaluate(X_train, Y_train, verbose=0)\n",
        "print('train ccore: %.2f MSE (%.2f RMSE)' % (trainScore, math.sqrt(trainScore)))\n",
        "testScore = classifier.evaluate(X_test, Y_test, verbose=0)\n",
        "print('test score: %.2f MSE (%.2f RMSE)' % (testScore, math.sqrt(testScore)))"
      ],
      "execution_count": 24,
      "outputs": [
        {
          "output_type": "stream",
          "text": [
            "Train Score: 0.11 MSE (0.33 RMSE)\n",
            "Test Score: 4.42 MSE (2.10 RMSE)\n"
          ],
          "name": "stdout"
        }
      ]
    },
    {
      "cell_type": "code",
      "metadata": {
        "colab": {
          "base_uri": "https://localhost:8080/",
          "height": 516
        },
        "id": "oejnT1IYV_tS",
        "outputId": "3cc95cb0-2e5f-4759-ff55-5650673becda"
      },
      "source": [
        "import matplotlib.pyplot as plt\n",
        "plt.plot(predictions,color='blue', label='Predictions values for the stock')\n",
        "plt.legend(loc='upper left')\n",
        "plt.show()\n",
        "plt.plot(Y_test,color='red', label='Real values for the stock')\n",
        "plt.legend(loc='upper left')\n",
        "plt.show()"
      ],
      "execution_count": 26,
      "outputs": [
        {
          "output_type": "display_data",
          "data": {
            "image/png": "[encoded data removed]",
            "text/plain": [
              "<Figure size 432x288 with 1 Axes>"
            ]
          },
          "metadata": {
            "tags": [],
            "needs_background": "light"
          }
        },
        {
          "output_type": "display_data",
          "data": {
            "image/png": "[encoded data removed]",
            "text/plain": [
              "<Figure size 432x288 with 1 Axes>"
            ]
          },
          "metadata": {
            "tags": [],
            "needs_background": "light"
          }
        }
      ]
    },
    {
      "cell_type": "code",
      "metadata": {
        "id": "tLPELPI1WK55"
      },
      "source": [
        ""
      ],
      "execution_count": null,
      "outputs": []
    }
  ]
}